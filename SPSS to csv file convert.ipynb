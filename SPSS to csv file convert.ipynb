{
 "cells": [
  {
   "attachments": {},
   "cell_type": "markdown",
   "metadata": {},
   "source": [
    "## This notebook reads data from SPSS data ().sav) and exports as csv file"
   ]
  },
  {
   "cell_type": "code",
   "execution_count": null,
   "metadata": {},
   "outputs": [],
   "source": [
    "#Load python packages\n",
    "import pyreadstat #package required to read .sav file\n",
    "import pandas as pd\n",
    "\n"
   ]
  },
  {
   "cell_type": "code",
   "execution_count": null,
   "metadata": {},
   "outputs": [],
   "source": [
    "#Define path of the file\n",
    "path = r\"C:\\Users\\mafiz\\OneDrive - United Nations\\Data\\Afrobarometer\\afrobarometer_release-dataset_merge-34ctry_r8_en_2023-03-01.sav\"\n",
    "\n",
    "# Load the .sav file\n",
    "afro, meta = pyreadstat.read_sav(path)"
   ]
  },
  {
   "cell_type": "code",
   "execution_count": null,
   "metadata": {},
   "outputs": [],
   "source": [
    "# Convert variable names to lowercase\n",
    "afro.columns = afro.columns.str.lower()\n",
    "\n",
    "# Display the DataFrame\n",
    "afro.head()"
   ]
  },
  {
   "cell_type": "code",
   "execution_count": null,
   "metadata": {},
   "outputs": [],
   "source": [
    "#export data as csv\n",
    "afro.to_csv('Afrobarometer round 8.csv', index=False)"
   ]
  }
 ],
 "metadata": {
  "language_info": {
   "name": "python"
  },
  "orig_nbformat": 4
 },
 "nbformat": 4,
 "nbformat_minor": 2
}
