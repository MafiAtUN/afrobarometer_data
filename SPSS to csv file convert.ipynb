{
 "cells": [
  {
   "attachments": {},
   "cell_type": "markdown",
   "metadata": {},
   "source": [
    "## This notebook reads data from SPSS data ().sav) and exports as csv file"
   ]
  },
  {
   "cell_type": "code",
   "execution_count": null,
   "metadata": {},
   "outputs": [],
   "source": [
    "#install required packages\n",
    "#pip install pyreadstat pandas\n",
    "\n",
    "#Load python packages\n",
    "import pyreadstat #package required to read .sav file\n",
    "import pandas as pd"
   ]
  },
  {
   "cell_type": "code",
   "execution_count": null,
   "metadata": {},
   "outputs": [],
   "source": [
    "#Define path from local storage\n",
    "path = r\"C:\\Users\\mafiz\\OneDrive - United Nations\\Data\\Afrobarometer\\afrobarometer_release-dataset_merge-34ctry_r8_en_2023-03-01.sav\"\n",
    "\n",
    "#Directly from URL\n",
    "url =     \"afro, meta = pyreadstat.read_sav(path)\"\n",
    "\n",
    "# Load the .sav file from local storage\n",
    "afro, meta = pyreadstat.read_sav(path)\n",
    "\n",
    "# Load the .sav file from url\n",
    "#afro, meta = pyreadstat.read_sav(url)"
   ]
  },
  {
   "cell_type": "code",
   "execution_count": null,
   "metadata": {},
   "outputs": [],
   "source": [
    "# Convert variable names to lowercase\n",
    "afro.columns = afro.columns.str.lower()\n",
    "\n",
    "# Display the DataFrame\n",
    "afro.head()"
   ]
  },
  {
   "cell_type": "code",
   "execution_count": null,
   "metadata": {},
   "outputs": [],
   "source": [
    "#export data as csv\n",
    "afro.to_csv('Afrobarometer round 8.csv', index=False)"
   ]
  }
 ],
 "metadata": {
  "language_info": {
   "name": "python"
  },
  "orig_nbformat": 4
 },
 "nbformat": 4,
 "nbformat_minor": 2
}
